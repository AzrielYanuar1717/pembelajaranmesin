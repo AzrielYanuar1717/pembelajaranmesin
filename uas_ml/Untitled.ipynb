{
 "cells": [
  {
   "cell_type": "code",
   "execution_count": 97,
   "id": "03170a46",
   "metadata": {},
   "outputs": [],
   "source": [
    "import pandas as pd\n",
    "from sklearn.model_selection import train_test_split\n",
    "from sklearn.pipeline import Pipeline\n",
    "from sklearn.compose import ColumnTransformer\n",
    "from jcopml.pipeline import num_pipe\n",
    "from sklearn.preprocessing import OneHotEncoder\n",
    "from sklearn.naive_bayes import GaussianNB\n",
    "from sklearn.metrics import accuracy_score, precision_score, recall_score, f1_score, confusion_matrix, classification_report, roc_curve, auc, precision_recall_curve\n",
    "import seaborn as sns\n",
    "import matplotlib.pyplot as plt"
   ]
  },
  {
   "cell_type": "code",
   "execution_count": 98,
   "id": "cf55ed0b",
   "metadata": {},
   "outputs": [],
   "source": [
    "filelocation = '../uas_ml/dataset/dataset_hijab.xlsx'"
   ]
  },
  {
   "cell_type": "code",
   "execution_count": 99,
   "id": "ae5aaa40",
   "metadata": {},
   "outputs": [],
   "source": [
    "df_jual = pd.read_excel(filelocation, sheet_name='laporan penjualan', skiprows=3)"
   ]
  },
  {
   "cell_type": "code",
   "execution_count": 100,
   "id": "73a8a337",
   "metadata": {},
   "outputs": [],
   "source": [
    "df_jual = df_jual.rename(columns={\n",
    "    'NO': 'NO',\n",
    "    'TANGGAL': 'TANGGAL',\n",
    "    'KODE': 'KODE',\n",
    "    'NAMA BARANG': 'NAMA BARANG',\n",
    "    'KATEGORI': 'KATEGORI',\n",
    "    'DESAIN': 'DESAIN',\n",
    "    'HARGA JUAL': 'HARGA JUAL',\n",
    "    'HARGA BELI': 'HARGA BELI',\n",
    "    'LABA': 'LABA'\n",
    "})"
   ]
  },
  {
   "cell_type": "code",
   "execution_count": 101,
   "id": "d04efd48",
   "metadata": {},
   "outputs": [],
   "source": [
    "df_jual = df_jual.dropna(subset=['NO'])"
   ]
  },
  {
   "cell_type": "code",
   "execution_count": 102,
   "id": "707ed547",
   "metadata": {},
   "outputs": [
    {
     "data": {
      "text/html": [
       "<div>\n",
       "<style scoped>\n",
       "    .dataframe tbody tr th:only-of-type {\n",
       "        vertical-align: middle;\n",
       "    }\n",
       "\n",
       "    .dataframe tbody tr th {\n",
       "        vertical-align: top;\n",
       "    }\n",
       "\n",
       "    .dataframe thead th {\n",
       "        text-align: right;\n",
       "    }\n",
       "</style>\n",
       "<table border=\"1\" class=\"dataframe\">\n",
       "  <thead>\n",
       "    <tr style=\"text-align: right;\">\n",
       "      <th></th>\n",
       "      <th>NO</th>\n",
       "      <th>TANGGAL</th>\n",
       "      <th>KODE</th>\n",
       "      <th>NAMA BARANG</th>\n",
       "      <th>KATEGORI</th>\n",
       "      <th>DESAIN</th>\n",
       "      <th>HARGA JUAL</th>\n",
       "      <th>HARGA BELI</th>\n",
       "      <th>LABA</th>\n",
       "    </tr>\n",
       "  </thead>\n",
       "  <tbody>\n",
       "    <tr>\n",
       "      <th>1</th>\n",
       "      <td>1.0</td>\n",
       "      <td>2024-02-01</td>\n",
       "      <td>H-01</td>\n",
       "      <td>PASMINA OVAL</td>\n",
       "      <td>HIJAB</td>\n",
       "      <td>POLOS</td>\n",
       "      <td>120000.0</td>\n",
       "      <td>140000.0</td>\n",
       "      <td>20000.0</td>\n",
       "    </tr>\n",
       "    <tr>\n",
       "      <th>2</th>\n",
       "      <td>2.0</td>\n",
       "      <td>2024-02-01</td>\n",
       "      <td>H-25</td>\n",
       "      <td>SEGIEMPAT PARIS</td>\n",
       "      <td>HIJAB</td>\n",
       "      <td>POLOS</td>\n",
       "      <td>70000.0</td>\n",
       "      <td>90000.0</td>\n",
       "      <td>20000.0</td>\n",
       "    </tr>\n",
       "    <tr>\n",
       "      <th>3</th>\n",
       "      <td>3.0</td>\n",
       "      <td>2024-02-01</td>\n",
       "      <td>H-21</td>\n",
       "      <td>SEGIEMPAT VOAL</td>\n",
       "      <td>HIJAB</td>\n",
       "      <td>POLOS</td>\n",
       "      <td>30000.0</td>\n",
       "      <td>45000.0</td>\n",
       "      <td>15000.0</td>\n",
       "    </tr>\n",
       "    <tr>\n",
       "      <th>4</th>\n",
       "      <td>4.0</td>\n",
       "      <td>2024-02-01</td>\n",
       "      <td>H-05</td>\n",
       "      <td>PASMINA SHIMMER SILK</td>\n",
       "      <td>HIJAB</td>\n",
       "      <td>POLOS</td>\n",
       "      <td>80000.0</td>\n",
       "      <td>100000.0</td>\n",
       "      <td>20000.0</td>\n",
       "    </tr>\n",
       "    <tr>\n",
       "      <th>5</th>\n",
       "      <td>5.0</td>\n",
       "      <td>2024-02-01</td>\n",
       "      <td>H-04</td>\n",
       "      <td>PASMINA CERUTY</td>\n",
       "      <td>HIJAB</td>\n",
       "      <td>BORDIR</td>\n",
       "      <td>110000.0</td>\n",
       "      <td>125000.0</td>\n",
       "      <td>15000.0</td>\n",
       "    </tr>\n",
       "  </tbody>\n",
       "</table>\n",
       "</div>"
      ],
      "text/plain": [
       "    NO    TANGGAL  KODE           NAMA BARANG KATEGORI  DESAIN  HARGA JUAL  \\\n",
       "1  1.0 2024-02-01  H-01          PASMINA OVAL    HIJAB   POLOS    120000.0   \n",
       "2  2.0 2024-02-01  H-25       SEGIEMPAT PARIS    HIJAB   POLOS     70000.0   \n",
       "3  3.0 2024-02-01  H-21        SEGIEMPAT VOAL    HIJAB   POLOS     30000.0   \n",
       "4  4.0 2024-02-01  H-05  PASMINA SHIMMER SILK    HIJAB   POLOS     80000.0   \n",
       "5  5.0 2024-02-01  H-04       PASMINA CERUTY     HIJAB  BORDIR    110000.0   \n",
       "\n",
       "   HARGA BELI     LABA  \n",
       "1    140000.0  20000.0  \n",
       "2     90000.0  20000.0  \n",
       "3     45000.0  15000.0  \n",
       "4    100000.0  20000.0  \n",
       "5    125000.0  15000.0  "
      ]
     },
     "execution_count": 102,
     "metadata": {},
     "output_type": "execute_result"
    }
   ],
   "source": [
    "df_jual.head()"
   ]
  },
  {
   "cell_type": "code",
   "execution_count": 103,
   "id": "109045a9",
   "metadata": {},
   "outputs": [],
   "source": [
    "item_sales_count = df_jual['KODE'].value_counts()\n",
    "threshold = item_sales_count.median()"
   ]
  },
  {
   "cell_type": "code",
   "execution_count": 104,
   "id": "ab95481f",
   "metadata": {},
   "outputs": [],
   "source": [
    "df_jual['LARIS'] = df_jual['KODE'].apply(lambda x: 1 if item_sales_count[x] > threshold else 0)"
   ]
  },
  {
   "cell_type": "code",
   "execution_count": 105,
   "id": "355329e0",
   "metadata": {},
   "outputs": [
    {
     "data": {
      "text/html": [
       "<div>\n",
       "<style scoped>\n",
       "    .dataframe tbody tr th:only-of-type {\n",
       "        vertical-align: middle;\n",
       "    }\n",
       "\n",
       "    .dataframe tbody tr th {\n",
       "        vertical-align: top;\n",
       "    }\n",
       "\n",
       "    .dataframe thead th {\n",
       "        text-align: right;\n",
       "    }\n",
       "</style>\n",
       "<table border=\"1\" class=\"dataframe\">\n",
       "  <thead>\n",
       "    <tr style=\"text-align: right;\">\n",
       "      <th></th>\n",
       "      <th>NO</th>\n",
       "      <th>TANGGAL</th>\n",
       "      <th>KODE</th>\n",
       "      <th>NAMA BARANG</th>\n",
       "      <th>KATEGORI</th>\n",
       "      <th>DESAIN</th>\n",
       "      <th>HARGA JUAL</th>\n",
       "      <th>HARGA BELI</th>\n",
       "      <th>LABA</th>\n",
       "      <th>LARIS</th>\n",
       "    </tr>\n",
       "  </thead>\n",
       "  <tbody>\n",
       "    <tr>\n",
       "      <th>1</th>\n",
       "      <td>1.0</td>\n",
       "      <td>2024-02-01</td>\n",
       "      <td>H-01</td>\n",
       "      <td>PASMINA OVAL</td>\n",
       "      <td>HIJAB</td>\n",
       "      <td>POLOS</td>\n",
       "      <td>120000.0</td>\n",
       "      <td>140000.0</td>\n",
       "      <td>20000.0</td>\n",
       "      <td>1</td>\n",
       "    </tr>\n",
       "    <tr>\n",
       "      <th>2</th>\n",
       "      <td>2.0</td>\n",
       "      <td>2024-02-01</td>\n",
       "      <td>H-25</td>\n",
       "      <td>SEGIEMPAT PARIS</td>\n",
       "      <td>HIJAB</td>\n",
       "      <td>POLOS</td>\n",
       "      <td>70000.0</td>\n",
       "      <td>90000.0</td>\n",
       "      <td>20000.0</td>\n",
       "      <td>1</td>\n",
       "    </tr>\n",
       "    <tr>\n",
       "      <th>3</th>\n",
       "      <td>3.0</td>\n",
       "      <td>2024-02-01</td>\n",
       "      <td>H-21</td>\n",
       "      <td>SEGIEMPAT VOAL</td>\n",
       "      <td>HIJAB</td>\n",
       "      <td>POLOS</td>\n",
       "      <td>30000.0</td>\n",
       "      <td>45000.0</td>\n",
       "      <td>15000.0</td>\n",
       "      <td>1</td>\n",
       "    </tr>\n",
       "    <tr>\n",
       "      <th>4</th>\n",
       "      <td>4.0</td>\n",
       "      <td>2024-02-01</td>\n",
       "      <td>H-05</td>\n",
       "      <td>PASMINA SHIMMER SILK</td>\n",
       "      <td>HIJAB</td>\n",
       "      <td>POLOS</td>\n",
       "      <td>80000.0</td>\n",
       "      <td>100000.0</td>\n",
       "      <td>20000.0</td>\n",
       "      <td>1</td>\n",
       "    </tr>\n",
       "    <tr>\n",
       "      <th>5</th>\n",
       "      <td>5.0</td>\n",
       "      <td>2024-02-01</td>\n",
       "      <td>H-04</td>\n",
       "      <td>PASMINA CERUTY</td>\n",
       "      <td>HIJAB</td>\n",
       "      <td>BORDIR</td>\n",
       "      <td>110000.0</td>\n",
       "      <td>125000.0</td>\n",
       "      <td>15000.0</td>\n",
       "      <td>1</td>\n",
       "    </tr>\n",
       "    <tr>\n",
       "      <th>...</th>\n",
       "      <td>...</td>\n",
       "      <td>...</td>\n",
       "      <td>...</td>\n",
       "      <td>...</td>\n",
       "      <td>...</td>\n",
       "      <td>...</td>\n",
       "      <td>...</td>\n",
       "      <td>...</td>\n",
       "      <td>...</td>\n",
       "      <td>...</td>\n",
       "    </tr>\n",
       "    <tr>\n",
       "      <th>465</th>\n",
       "      <td>465.0</td>\n",
       "      <td>2024-02-16</td>\n",
       "      <td>H-18</td>\n",
       "      <td>BERGO INSTAN VOAL</td>\n",
       "      <td>HIJAB</td>\n",
       "      <td>POLOS</td>\n",
       "      <td>70000.0</td>\n",
       "      <td>90000.0</td>\n",
       "      <td>20000.0</td>\n",
       "      <td>1</td>\n",
       "    </tr>\n",
       "    <tr>\n",
       "      <th>466</th>\n",
       "      <td>466.0</td>\n",
       "      <td>2024-02-16</td>\n",
       "      <td>H-02</td>\n",
       "      <td>PASMINA SILK LASERCUT</td>\n",
       "      <td>HIJAB</td>\n",
       "      <td>POLOS</td>\n",
       "      <td>115000.0</td>\n",
       "      <td>130000.0</td>\n",
       "      <td>15000.0</td>\n",
       "      <td>0</td>\n",
       "    </tr>\n",
       "    <tr>\n",
       "      <th>467</th>\n",
       "      <td>467.0</td>\n",
       "      <td>2024-02-16</td>\n",
       "      <td>H-04</td>\n",
       "      <td>PASMINA CERUTY</td>\n",
       "      <td>HIJAB</td>\n",
       "      <td>BORDIR</td>\n",
       "      <td>110000.0</td>\n",
       "      <td>125000.0</td>\n",
       "      <td>15000.0</td>\n",
       "      <td>1</td>\n",
       "    </tr>\n",
       "    <tr>\n",
       "      <th>468</th>\n",
       "      <td>468.0</td>\n",
       "      <td>2024-02-16</td>\n",
       "      <td>H-05</td>\n",
       "      <td>PASMINA SHIMMER SILK</td>\n",
       "      <td>HIJAB</td>\n",
       "      <td>POLOS</td>\n",
       "      <td>80000.0</td>\n",
       "      <td>100000.0</td>\n",
       "      <td>20000.0</td>\n",
       "      <td>1</td>\n",
       "    </tr>\n",
       "    <tr>\n",
       "      <th>469</th>\n",
       "      <td>469.0</td>\n",
       "      <td>2024-02-16</td>\n",
       "      <td>H-23</td>\n",
       "      <td>SEGIEMPAT SYARI</td>\n",
       "      <td>HIJAB</td>\n",
       "      <td>POLOS</td>\n",
       "      <td>80000.0</td>\n",
       "      <td>100000.0</td>\n",
       "      <td>20000.0</td>\n",
       "      <td>0</td>\n",
       "    </tr>\n",
       "  </tbody>\n",
       "</table>\n",
       "<p>469 rows × 10 columns</p>\n",
       "</div>"
      ],
      "text/plain": [
       "        NO    TANGGAL  KODE            NAMA BARANG KATEGORI  DESAIN  \\\n",
       "1      1.0 2024-02-01  H-01           PASMINA OVAL    HIJAB   POLOS   \n",
       "2      2.0 2024-02-01  H-25        SEGIEMPAT PARIS    HIJAB   POLOS   \n",
       "3      3.0 2024-02-01  H-21         SEGIEMPAT VOAL    HIJAB   POLOS   \n",
       "4      4.0 2024-02-01  H-05   PASMINA SHIMMER SILK    HIJAB   POLOS   \n",
       "5      5.0 2024-02-01  H-04        PASMINA CERUTY     HIJAB  BORDIR   \n",
       "..     ...        ...   ...                    ...      ...     ...   \n",
       "465  465.0 2024-02-16  H-18      BERGO INSTAN VOAL    HIJAB   POLOS   \n",
       "466  466.0 2024-02-16  H-02  PASMINA SILK LASERCUT    HIJAB   POLOS   \n",
       "467  467.0 2024-02-16  H-04        PASMINA CERUTY     HIJAB  BORDIR   \n",
       "468  468.0 2024-02-16  H-05   PASMINA SHIMMER SILK    HIJAB   POLOS   \n",
       "469  469.0 2024-02-16  H-23        SEGIEMPAT SYARI    HIJAB   POLOS   \n",
       "\n",
       "     HARGA JUAL  HARGA BELI     LABA  LARIS  \n",
       "1      120000.0    140000.0  20000.0      1  \n",
       "2       70000.0     90000.0  20000.0      1  \n",
       "3       30000.0     45000.0  15000.0      1  \n",
       "4       80000.0    100000.0  20000.0      1  \n",
       "5      110000.0    125000.0  15000.0      1  \n",
       "..          ...         ...      ...    ...  \n",
       "465     70000.0     90000.0  20000.0      1  \n",
       "466    115000.0    130000.0  15000.0      0  \n",
       "467    110000.0    125000.0  15000.0      1  \n",
       "468     80000.0    100000.0  20000.0      1  \n",
       "469     80000.0    100000.0  20000.0      0  \n",
       "\n",
       "[469 rows x 10 columns]"
      ]
     },
     "execution_count": 105,
     "metadata": {},
     "output_type": "execute_result"
    }
   ],
   "source": [
    "df_jual"
   ]
  },
  {
   "cell_type": "code",
   "execution_count": 106,
   "id": "8f9ba098",
   "metadata": {},
   "outputs": [],
   "source": [
    "X = df_jual.drop(columns='LARIS')\n",
    "y = df_jual['LARIS']"
   ]
  },
  {
   "cell_type": "code",
   "execution_count": 107,
   "id": "bcc9052a",
   "metadata": {},
   "outputs": [
    {
     "name": "stdout",
     "output_type": "stream",
     "text": [
      "(375, 9) (94, 9) (375,) (94,)\n"
     ]
    }
   ],
   "source": [
    "x_train, x_test, y_train, y_test = train_test_split(X, y, test_size=0.2, random_state=42)\n",
    "print(x_train.shape, x_test.shape, y_train.shape, y_test.shape)"
   ]
  },
  {
   "cell_type": "code",
   "execution_count": 108,
   "id": "34209cec",
   "metadata": {},
   "outputs": [],
   "source": [
    "preprocessor = ColumnTransformer([\n",
    "    ('numeric', num_pipe(), ['HARGA JUAL', 'HARGA BELI', 'LABA']),\n",
    "    ('categoric', OneHotEncoder(sparse_output=False), ['KODE', 'NAMA BARANG', 'KATEGORI', 'DESAIN']),\n",
    "])"
   ]
  },
  {
   "cell_type": "code",
   "execution_count": 109,
   "id": "7a02c532",
   "metadata": {},
   "outputs": [],
   "source": [
    "pipeline = Pipeline([\n",
    "    ('preprocessor', preprocessor),\n",
    "    ('classifier', GaussianNB())\n",
    "])"
   ]
  },
  {
   "cell_type": "code",
   "execution_count": 111,
   "id": "1f92c483",
   "metadata": {},
   "outputs": [
    {
     "data": {
      "text/html": [
       "<style>#sk-container-id-5 {color: black;}#sk-container-id-5 pre{padding: 0;}#sk-container-id-5 div.sk-toggleable {background-color: white;}#sk-container-id-5 label.sk-toggleable__label {cursor: pointer;display: block;width: 100%;margin-bottom: 0;padding: 0.3em;box-sizing: border-box;text-align: center;}#sk-container-id-5 label.sk-toggleable__label-arrow:before {content: \"▸\";float: left;margin-right: 0.25em;color: #696969;}#sk-container-id-5 label.sk-toggleable__label-arrow:hover:before {color: black;}#sk-container-id-5 div.sk-estimator:hover label.sk-toggleable__label-arrow:before {color: black;}#sk-container-id-5 div.sk-toggleable__content {max-height: 0;max-width: 0;overflow: hidden;text-align: left;background-color: #f0f8ff;}#sk-container-id-5 div.sk-toggleable__content pre {margin: 0.2em;color: black;border-radius: 0.25em;background-color: #f0f8ff;}#sk-container-id-5 input.sk-toggleable__control:checked~div.sk-toggleable__content {max-height: 200px;max-width: 100%;overflow: auto;}#sk-container-id-5 input.sk-toggleable__control:checked~label.sk-toggleable__label-arrow:before {content: \"▾\";}#sk-container-id-5 div.sk-estimator input.sk-toggleable__control:checked~label.sk-toggleable__label {background-color: #d4ebff;}#sk-container-id-5 div.sk-label input.sk-toggleable__control:checked~label.sk-toggleable__label {background-color: #d4ebff;}#sk-container-id-5 input.sk-hidden--visually {border: 0;clip: rect(1px 1px 1px 1px);clip: rect(1px, 1px, 1px, 1px);height: 1px;margin: -1px;overflow: hidden;padding: 0;position: absolute;width: 1px;}#sk-container-id-5 div.sk-estimator {font-family: monospace;background-color: #f0f8ff;border: 1px dotted black;border-radius: 0.25em;box-sizing: border-box;margin-bottom: 0.5em;}#sk-container-id-5 div.sk-estimator:hover {background-color: #d4ebff;}#sk-container-id-5 div.sk-parallel-item::after {content: \"\";width: 100%;border-bottom: 1px solid gray;flex-grow: 1;}#sk-container-id-5 div.sk-label:hover label.sk-toggleable__label {background-color: #d4ebff;}#sk-container-id-5 div.sk-serial::before {content: \"\";position: absolute;border-left: 1px solid gray;box-sizing: border-box;top: 0;bottom: 0;left: 50%;z-index: 0;}#sk-container-id-5 div.sk-serial {display: flex;flex-direction: column;align-items: center;background-color: white;padding-right: 0.2em;padding-left: 0.2em;position: relative;}#sk-container-id-5 div.sk-item {position: relative;z-index: 1;}#sk-container-id-5 div.sk-parallel {display: flex;align-items: stretch;justify-content: center;background-color: white;position: relative;}#sk-container-id-5 div.sk-item::before, #sk-container-id-5 div.sk-parallel-item::before {content: \"\";position: absolute;border-left: 1px solid gray;box-sizing: border-box;top: 0;bottom: 0;left: 50%;z-index: -1;}#sk-container-id-5 div.sk-parallel-item {display: flex;flex-direction: column;z-index: 1;position: relative;background-color: white;}#sk-container-id-5 div.sk-parallel-item:first-child::after {align-self: flex-end;width: 50%;}#sk-container-id-5 div.sk-parallel-item:last-child::after {align-self: flex-start;width: 50%;}#sk-container-id-5 div.sk-parallel-item:only-child::after {width: 0;}#sk-container-id-5 div.sk-dashed-wrapped {border: 1px dashed gray;margin: 0 0.4em 0.5em 0.4em;box-sizing: border-box;padding-bottom: 0.4em;background-color: white;}#sk-container-id-5 div.sk-label label {font-family: monospace;font-weight: bold;display: inline-block;line-height: 1.2em;}#sk-container-id-5 div.sk-label-container {text-align: center;}#sk-container-id-5 div.sk-container {/* jupyter's `normalize.less` sets `[hidden] { display: none; }` but bootstrap.min.css set `[hidden] { display: none !important; }` so we also need the `!important` here to be able to override the default hidden behavior on the sphinx rendered scikit-learn.org. See: https://github.com/scikit-learn/scikit-learn/issues/21755 */display: inline-block !important;position: relative;}#sk-container-id-5 div.sk-text-repr-fallback {display: none;}</style><div id=\"sk-container-id-5\" class=\"sk-top-container\"><div class=\"sk-text-repr-fallback\"><pre>Pipeline(steps=[(&#x27;preprocessor&#x27;,\n",
       "                 ColumnTransformer(transformers=[(&#x27;numeric&#x27;,\n",
       "                                                  Pipeline(steps=[(&#x27;imputer&#x27;,\n",
       "                                                                   SimpleImputer(strategy=&#x27;median&#x27;))]),\n",
       "                                                  [&#x27;HARGA JUAL&#x27;, &#x27;HARGA BELI&#x27;,\n",
       "                                                   &#x27;LABA&#x27;]),\n",
       "                                                 (&#x27;categoric&#x27;,\n",
       "                                                  OneHotEncoder(sparse_output=False),\n",
       "                                                  [&#x27;KODE&#x27;, &#x27;NAMA BARANG&#x27;,\n",
       "                                                   &#x27;KATEGORI&#x27;, &#x27;DESAIN&#x27;])])),\n",
       "                (&#x27;classifier&#x27;, GaussianNB())])</pre><b>In a Jupyter environment, please rerun this cell to show the HTML representation or trust the notebook. <br />On GitHub, the HTML representation is unable to render, please try loading this page with nbviewer.org.</b></div><div class=\"sk-container\" hidden><div class=\"sk-item sk-dashed-wrapped\"><div class=\"sk-label-container\"><div class=\"sk-label sk-toggleable\"><input class=\"sk-toggleable__control sk-hidden--visually\" id=\"sk-estimator-id-29\" type=\"checkbox\" ><label for=\"sk-estimator-id-29\" class=\"sk-toggleable__label sk-toggleable__label-arrow\">Pipeline</label><div class=\"sk-toggleable__content\"><pre>Pipeline(steps=[(&#x27;preprocessor&#x27;,\n",
       "                 ColumnTransformer(transformers=[(&#x27;numeric&#x27;,\n",
       "                                                  Pipeline(steps=[(&#x27;imputer&#x27;,\n",
       "                                                                   SimpleImputer(strategy=&#x27;median&#x27;))]),\n",
       "                                                  [&#x27;HARGA JUAL&#x27;, &#x27;HARGA BELI&#x27;,\n",
       "                                                   &#x27;LABA&#x27;]),\n",
       "                                                 (&#x27;categoric&#x27;,\n",
       "                                                  OneHotEncoder(sparse_output=False),\n",
       "                                                  [&#x27;KODE&#x27;, &#x27;NAMA BARANG&#x27;,\n",
       "                                                   &#x27;KATEGORI&#x27;, &#x27;DESAIN&#x27;])])),\n",
       "                (&#x27;classifier&#x27;, GaussianNB())])</pre></div></div></div><div class=\"sk-serial\"><div class=\"sk-item sk-dashed-wrapped\"><div class=\"sk-label-container\"><div class=\"sk-label sk-toggleable\"><input class=\"sk-toggleable__control sk-hidden--visually\" id=\"sk-estimator-id-30\" type=\"checkbox\" ><label for=\"sk-estimator-id-30\" class=\"sk-toggleable__label sk-toggleable__label-arrow\">preprocessor: ColumnTransformer</label><div class=\"sk-toggleable__content\"><pre>ColumnTransformer(transformers=[(&#x27;numeric&#x27;,\n",
       "                                 Pipeline(steps=[(&#x27;imputer&#x27;,\n",
       "                                                  SimpleImputer(strategy=&#x27;median&#x27;))]),\n",
       "                                 [&#x27;HARGA JUAL&#x27;, &#x27;HARGA BELI&#x27;, &#x27;LABA&#x27;]),\n",
       "                                (&#x27;categoric&#x27;,\n",
       "                                 OneHotEncoder(sparse_output=False),\n",
       "                                 [&#x27;KODE&#x27;, &#x27;NAMA BARANG&#x27;, &#x27;KATEGORI&#x27;,\n",
       "                                  &#x27;DESAIN&#x27;])])</pre></div></div></div><div class=\"sk-parallel\"><div class=\"sk-parallel-item\"><div class=\"sk-item\"><div class=\"sk-label-container\"><div class=\"sk-label sk-toggleable\"><input class=\"sk-toggleable__control sk-hidden--visually\" id=\"sk-estimator-id-31\" type=\"checkbox\" ><label for=\"sk-estimator-id-31\" class=\"sk-toggleable__label sk-toggleable__label-arrow\">numeric</label><div class=\"sk-toggleable__content\"><pre>[&#x27;HARGA JUAL&#x27;, &#x27;HARGA BELI&#x27;, &#x27;LABA&#x27;]</pre></div></div></div><div class=\"sk-serial\"><div class=\"sk-item\"><div class=\"sk-serial\"><div class=\"sk-item\"><div class=\"sk-estimator sk-toggleable\"><input class=\"sk-toggleable__control sk-hidden--visually\" id=\"sk-estimator-id-32\" type=\"checkbox\" ><label for=\"sk-estimator-id-32\" class=\"sk-toggleable__label sk-toggleable__label-arrow\">SimpleImputer</label><div class=\"sk-toggleable__content\"><pre>SimpleImputer(strategy=&#x27;median&#x27;)</pre></div></div></div></div></div></div></div></div><div class=\"sk-parallel-item\"><div class=\"sk-item\"><div class=\"sk-label-container\"><div class=\"sk-label sk-toggleable\"><input class=\"sk-toggleable__control sk-hidden--visually\" id=\"sk-estimator-id-33\" type=\"checkbox\" ><label for=\"sk-estimator-id-33\" class=\"sk-toggleable__label sk-toggleable__label-arrow\">categoric</label><div class=\"sk-toggleable__content\"><pre>[&#x27;KODE&#x27;, &#x27;NAMA BARANG&#x27;, &#x27;KATEGORI&#x27;, &#x27;DESAIN&#x27;]</pre></div></div></div><div class=\"sk-serial\"><div class=\"sk-item\"><div class=\"sk-estimator sk-toggleable\"><input class=\"sk-toggleable__control sk-hidden--visually\" id=\"sk-estimator-id-34\" type=\"checkbox\" ><label for=\"sk-estimator-id-34\" class=\"sk-toggleable__label sk-toggleable__label-arrow\">OneHotEncoder</label><div class=\"sk-toggleable__content\"><pre>OneHotEncoder(sparse_output=False)</pre></div></div></div></div></div></div></div></div><div class=\"sk-item\"><div class=\"sk-estimator sk-toggleable\"><input class=\"sk-toggleable__control sk-hidden--visually\" id=\"sk-estimator-id-35\" type=\"checkbox\" ><label for=\"sk-estimator-id-35\" class=\"sk-toggleable__label sk-toggleable__label-arrow\">GaussianNB</label><div class=\"sk-toggleable__content\"><pre>GaussianNB()</pre></div></div></div></div></div></div></div>"
      ],
      "text/plain": [
       "Pipeline(steps=[('preprocessor',\n",
       "                 ColumnTransformer(transformers=[('numeric',\n",
       "                                                  Pipeline(steps=[('imputer',\n",
       "                                                                   SimpleImputer(strategy='median'))]),\n",
       "                                                  ['HARGA JUAL', 'HARGA BELI',\n",
       "                                                   'LABA']),\n",
       "                                                 ('categoric',\n",
       "                                                  OneHotEncoder(sparse_output=False),\n",
       "                                                  ['KODE', 'NAMA BARANG',\n",
       "                                                   'KATEGORI', 'DESAIN'])])),\n",
       "                ('classifier', GaussianNB())])"
      ]
     },
     "execution_count": 111,
     "metadata": {},
     "output_type": "execute_result"
    }
   ],
   "source": [
    "pipeline.fit(x_train, y_train)"
   ]
  },
  {
   "cell_type": "code",
   "execution_count": 112,
   "id": "f34870be",
   "metadata": {},
   "outputs": [],
   "source": [
    "y_pred = pipeline.predict(x_test)"
   ]
  },
  {
   "cell_type": "code",
   "execution_count": 113,
   "id": "7336a3c9",
   "metadata": {},
   "outputs": [],
   "source": [
    "accuracy = accuracy_score(y_test, y_pred)\n",
    "precision = precision_score(y_test, y_pred)\n",
    "recall = recall_score(y_test, y_pred)\n",
    "f1 = f1_score(y_test, y_pred)"
   ]
  },
  {
   "cell_type": "code",
   "execution_count": 114,
   "id": "5794a742",
   "metadata": {},
   "outputs": [
    {
     "name": "stdout",
     "output_type": "stream",
     "text": [
      "Accuracy: 0.7979\n",
      "Precision: 0.7957\n",
      "Recall: 1.0000\n",
      "F1 Score: 0.8862\n"
     ]
    }
   ],
   "source": [
    "print(f\"Accuracy: {accuracy:.4f}\")\n",
    "print(f\"Precision: {precision:.4f}\")\n",
    "print(f\"Recall: {recall:.4f}\")\n",
    "print(f\"F1 Score: {f1:.4f}\")"
   ]
  },
  {
   "cell_type": "code",
   "execution_count": 115,
   "id": "00fa758f",
   "metadata": {},
   "outputs": [
    {
     "name": "stdout",
     "output_type": "stream",
     "text": [
      "\n",
      "Classification Report:\n",
      "              precision    recall  f1-score   support\n",
      "\n",
      "           0       1.00      0.05      0.10        20\n",
      "           1       0.80      1.00      0.89        74\n",
      "\n",
      "    accuracy                           0.80        94\n",
      "   macro avg       0.90      0.53      0.49        94\n",
      "weighted avg       0.84      0.80      0.72        94\n",
      "\n"
     ]
    }
   ],
   "source": [
    "print(\"\\nClassification Report:\")\n",
    "print(classification_report(y_test, y_pred))"
   ]
  },
  {
   "cell_type": "code",
   "execution_count": 117,
   "id": "80154e34",
   "metadata": {},
   "outputs": [
    {
     "data": {
      "image/png": "[encoded data removed]",
      "text/plain": [
       "<Figure size 640x480 with 2 Axes>"
      ]
     },
     "metadata": {},
     "output_type": "display_data"
    }
   ],
   "source": [
    "conf_matrix = confusion_matrix(y_test, y_pred)\n",
    "sns.heatmap(conf_matrix, annot=True, fmt=\"d\", cmap=\"Blues\")\n",
    "plt.ylabel('Actual')\n",
    "plt.xlabel('Predicted')\n",
    "plt.title('Confusion Matrix')\n",
    "plt.show()\n"
   ]
  },
  {
   "cell_type": "code",
   "execution_count": 118,
   "id": "9a08dde6",
   "metadata": {},
   "outputs": [],
   "source": [
    "y_pred_proba = pipeline.predict_proba(x_test)[:, 1]\n",
    "fpr, tpr, _ = roc_curve(y_test, y_pred_proba)\n",
    "roc_auc = auc(fpr, tpr)"
   ]
  },
  {
   "cell_type": "code",
   "execution_count": 119,
   "id": "7e5cc1c8",
   "metadata": {},
   "outputs": [
    {
     "data": {
      "image/png": "[encoded data removed]",
      "text/plain": [
       "<Figure size 640x480 with 1 Axes>"
      ]
     },
     "metadata": {},
     "output_type": "display_data"
    }
   ],
   "source": [
    "plt.figure()\n",
    "plt.plot(fpr, tpr, color='darkorange', lw=2, label=f'ROC curve (area = {roc_auc:.2f})')\n",
    "plt.plot([0, 1], [0, 1], color='navy', lw=2, linestyle='--')\n",
    "plt.xlim([0.0, 1.0])\n",
    "plt.ylim([0.0, 1.05])\n",
    "plt.xlabel('False Positive Rate')\n",
    "plt.ylabel('True Positive Rate')\n",
    "plt.title('Receiver Operating Characteristic')\n",
    "plt.legend(loc=\"lower right\")\n",
    "plt.show()"
   ]
  },
  {
   "cell_type": "code",
   "execution_count": 120,
   "id": "a2a99fb9",
   "metadata": {},
   "outputs": [],
   "source": [
    "precision, recall, _ = precision_recall_curve(y_test, y_pred_proba)"
   ]
  },
  {
   "cell_type": "code",
   "execution_count": 122,
   "id": "cdac3017",
   "metadata": {},
   "outputs": [
    {
     "data": {
      "image/png": "[encoded data removed]",
      "text/plain": [
       "<Figure size 640x480 with 1 Axes>"
      ]
     },
     "metadata": {},
     "output_type": "display_data"
    }
   ],
   "source": [
    "plt.figure()\n",
    "plt.plot(recall, precision, color='b', lw=2)\n",
    "plt.xlabel('Recall')\n",
    "plt.ylabel('Precision')\n",
    "plt.title('Precision-Recall Curve')\n",
    "plt.show()"
   ]
  },
  {
   "cell_type": "code",
   "execution_count": 123,
   "id": "214dde26",
   "metadata": {},
   "outputs": [],
   "source": [
    "accuracy = accuracy_score(y_test, y_pred)\n",
    "precision = precision_score(y_test, y_pred)\n",
    "recall = recall_score(y_test, y_pred)\n",
    "f1 = f1_score(y_test, y_pred)"
   ]
  },
  {
   "cell_type": "code",
   "execution_count": 124,
   "id": "ef075f43",
   "metadata": {},
   "outputs": [
    {
     "name": "stdout",
     "output_type": "stream",
     "text": [
      "Accuracy: 0.7978723404255319\n",
      "Precision: 0.7956989247311828\n",
      "Recall: 1.0\n",
      "F1 Score: 0.8862275449101796\n",
      "\n",
      "Classification Report:\n",
      "               precision    recall  f1-score   support\n",
      "\n",
      "           0       1.00      0.05      0.10        20\n",
      "           1       0.80      1.00      0.89        74\n",
      "\n",
      "    accuracy                           0.80        94\n",
      "   macro avg       0.90      0.53      0.49        94\n",
      "weighted avg       0.84      0.80      0.72        94\n",
      "\n",
      "\n",
      "Confusion Matrix:\n",
      " [[ 1 19]\n",
      " [ 0 74]]\n"
     ]
    }
   ],
   "source": [
    "print(\"Accuracy:\", accuracy)\n",
    "print(\"Precision:\", precision)\n",
    "print(\"Recall:\", recall)\n",
    "print(\"F1 Score:\", f1)\n",
    "print(\"\\nClassification Report:\\n\", classification_report(y_test, y_pred))\n",
    "print(\"\\nConfusion Matrix:\\n\", confusion_matrix(y_test, y_pred))"
   ]
  },
  {
   "cell_type": "code",
   "execution_count": 125,
   "id": "5c67bf4f",
   "metadata": {},
   "outputs": [],
   "source": [
    "x_test['LARIS_PREDICTED'] = y_pred"
   ]
  },
  {
   "cell_type": "code",
   "execution_count": 126,
   "id": "84f6ade6",
   "metadata": {},
   "outputs": [],
   "source": [
    "laris_items = x_test[x_test['LARIS_PREDICTED'] == 1]"
   ]
  },
  {
   "cell_type": "code",
   "execution_count": 127,
   "id": "8648f57d",
   "metadata": {},
   "outputs": [],
   "source": [
    "most_frequent_item = laris_items['NAMA BARANG'].value_counts().idxmax()\n",
    "most_frequent_item_count = laris_items['NAMA BARANG'].value_counts().max()"
   ]
  },
  {
   "cell_type": "code",
   "execution_count": 128,
   "id": "ae82b6bf",
   "metadata": {},
   "outputs": [
    {
     "name": "stdout",
     "output_type": "stream",
     "text": [
      "Nama barang terlaris yang diprediksi adalah: PENITI dengan jumlah 13 kali prediksi laris.\n"
     ]
    }
   ],
   "source": [
    "print(f\"Nama barang terlaris yang diprediksi adalah: {most_frequent_item} dengan jumlah {most_frequent_item_count} kali prediksi laris.\")"
   ]
  },
  {
   "cell_type": "code",
   "execution_count": null,
   "id": "95dfbe5e",
   "metadata": {},
   "outputs": [],
   "source": []
  }
 ],
 "metadata": {
  "kernelspec": {
   "display_name": "Python 3 (ipykernel)",
   "language": "python",
   "name": "python3"
  },
  "language_info": {
   "codemirror_mode": {
    "name": "ipython",
    "version": 3
   },
   "file_extension": ".py",
   "mimetype": "text/x-python",
   "name": "python",
   "nbconvert_exporter": "python",
   "pygments_lexer": "ipython3",
   "version": "3.11.5"
  }
 },
 "nbformat": 4,
 "nbformat_minor": 5
}
