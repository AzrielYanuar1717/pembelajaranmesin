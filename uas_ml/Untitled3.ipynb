{
 "cells": [
  {
   "cell_type": "markdown",
   "id": "303ac335",
   "metadata": {},
   "source": [
    "# Memprediksi dan Menganalisis Penjualan Barang Terlaris Menggunakan Metode Naive Bayes dan K-Means"
   ]
  },
  {
   "cell_type": "markdown",
   "id": "a4cc9fa1",
   "metadata": {},
   "source": [
    "# Disusun Oleh:\n",
    "Nama : Muhamad Azriel Yanuar"
   ]
  },
  {
   "cell_type": "markdown",
   "id": "f514a1ec",
   "metadata": {},
   "source": [
    "Nim : A11.2022.14646"
   ]
  },
  {
   "cell_type": "markdown",
   "id": "81efa5ff",
   "metadata": {},
   "source": [
    "Kelas : Pembelajaran Mesin A11.2022.14646"
   ]
  },
  {
   "cell_type": "markdown",
   "id": "b1097ef9",
   "metadata": {},
   "source": [
    "# Ringkasan"
   ]
  },
  {
   "cell_type": "markdown",
   "id": "a57e9d0b",
   "metadata": {},
   "source": [
    "Penelitian ini bertujuan untuk menganalisis dan memprediksi penjualan barang terlaris menggunakan dua metode pembelajaran mesin: Naive Bayes dan K-Means. Dengan memanfaatkan dataset penjualan hijab, penelitian ini berfokus pada identifikasi barang yang paling laris serta memprediksi barang yang kemungkinan besar akan menjadi laris di bulan berikutnya."
   ]
  },
  {
   "cell_type": "markdown",
   "id": "2541cb5e",
   "metadata": {},
   "source": [
    "Penelitian ini menggunakan dataset penjualan yang berisi informasi tentang berbagai barang hijab, termasuk tanggal penjualan, kode barang, nama barang, kategori, desain, harga jual, harga beli, dan laba. Dua algoritma pembelajaran mesin diterapkan dalam penelitian ini:\n",
    "\n",
    "1. Naive Bayes: Digunakan untuk memprediksi barang yang akan terjual berdasarkan fitur seperti kode barang dan bulan penjualan.\n",
    "2. K-Means: Digunakan untuk mengelompokkan barang-barang berdasarkan pola penjualan untuk mengidentifikasi kelompok barang yang memiliki pola penjualan serupa."
   ]
  },
  {
   "cell_type": "markdown",
   "id": "58ec866c",
   "metadata": {},
   "source": [
    "# Masalah dan Tujuan Penelitian"
   ]
  },
  {
   "cell_type": "markdown",
   "id": "a281836a",
   "metadata": {},
   "source": [
    "Masalah dan Tujuan Penelitian\n",
    "\n",
    "Masalah\n",
    "\n",
    "Di dalam industri retail, memahami pola penjualan dan mampu memprediksi barang-barang yang akan terjual dengan baik di masa depan adalah tantangan yang signifikan. Tanpa prediksi yang akurat, perusahaan mungkin menghadapi masalah seperti kelebihan stok untuk barang yang kurang diminati atau kekurangan stok untuk barang yang sangat diminati. Masalah ini dapat menyebabkan kerugian finansial, ketidakpuasan pelanggan, dan inefisiensi operasional. Oleh karena itu, diperlukan metode yang efektif untuk menganalisis data penjualan historis dan membuat prediksi yang akurat tentang barang-barang yang akan terlaris di bulan berikutnya.\n",
    "\n",
    "Tujuan\n",
    "\n",
    "Penelitian ini bertujuan untuk mengatasi masalah tersebut dengan mengaplikasikan dua metode pembelajaran mesin, yaitu Naive Bayes dan K-Means, untuk menganalisis dan memprediksi penjualan barang terlaris. Secara khusus, tujuan dari penelitian ini adalah:\n",
    "\n",
    "1. Memprediksi Barang Terlaris:\n",
    "\n",
    "Menggunakan algoritma Naive Bayes untuk memprediksi barang-barang yang kemungkinan besar akan menjadi terlaris di bulan berikutnya berdasarkan data penjualan historis.\n",
    "\n",
    "2. Mengelompokkan Barang Berdasarkan Pola Penjualan:\n",
    "\n",
    "Menggunakan algoritma K-Means untuk mengelompokkan barang-barang ke dalam beberapa kelompok berdasarkan pola penjualan mereka. Ini membantu dalam mengidentifikasi strategi penjualan yang berbeda untuk setiap kelompok.\n",
    "\n",
    "3. Mengevaluasi dan Membandingkan Performa Metode:\n",
    "\n",
    "Mengevaluasi akurasi prediksi dari Naive Bayes menggunakan metrik akurasi, matriks kebingungan, dan laporan klasifikasi.\n",
    "Mengevaluasi hasil pengelompokan K-Means menggunakan skor siluet sebagai proxy untuk akurasi.\n",
    "Membandingkan hasil dari kedua metode untuk menentukan mana yang lebih efektif dalam konteks prediksi penjualan barang terlaris.\n",
    "\n",
    "4. Visualisasi Hasil:\n",
    "\n",
    "Membuat visualisasi yang informatif untuk menampilkan prediksi barang terlaris bulan depan dan perbandingan antara hasil dari Naive Bayes dan K-Means."
   ]
  },
  {
   "cell_type": "markdown",
   "id": "942cf084",
   "metadata": {},
   "source": [
    "# Mengimport Libraries"
   ]
  },
  {
   "cell_type": "markdown",
   "id": "5c5210dd",
   "metadata": {},
   "source": [
    "- pandas dan numpy : untuk manipulasi data.\n",
    "- matplotlib.pyplot dan seaborn : untuk visualisasi data.\n",
    "- sklearn :  untuk algoritma machine learning, pemisahan data, dan evaluasi model.\n",
    "- collections.Counter : untuk menghitung kemunculan elemen dalam daftar."
   ]
  },
  {
   "cell_type": "code",
   "execution_count": 2,
   "id": "674e05a3",
   "metadata": {},
   "outputs": [],
   "source": [
    "import pandas as pd\n",
    "import numpy as np\n",
    "import matplotlib.pyplot as plt\n",
    "import seaborn as sns\n",
    "from sklearn.model_selection import train_test_split\n",
    "from sklearn.naive_bayes import MultinomialNB\n",
    "from sklearn.cluster import KMeans\n",
    "from sklearn.metrics import accuracy_score, confusion_matrix, classification_report, silhouette_score\n",
    "from sklearn.preprocessing import LabelEncoder, StandardScaler\n",
    "from collections import Counter"
   ]
  },
  {
   "cell_type": "markdown",
   "id": "39a66b49",
   "metadata": {},
   "source": [
    "# Penjelasan Dataset"
   ]
  },
  {
   "cell_type": "code",
   "execution_count": null,
   "id": "654b4b03",
   "metadata": {},
   "outputs": [],
   "source": []
  },
  {
   "cell_type": "markdown",
   "id": "a7fbc78b",
   "metadata": {},
   "source": [
    "# Exploratory Data Analysis (EDA)"
   ]
  },
  {
   "cell_type": "markdown",
   "id": "5572041c",
   "metadata": {},
   "source": [
    "# 1. Memuat/Memanggil Dataset"
   ]
  },
  {
   "cell_type": "markdown",
   "id": "ec9c8997",
   "metadata": {},
   "source": [
    "Memanggil Dataset"
   ]
  },
  {
   "cell_type": "code",
   "execution_count": 8,
   "id": "fbca1c47",
   "metadata": {},
   "outputs": [],
   "source": [
    "filelocation = '../uas_ml/dataset/dataset_hijab.xlsx'\n",
    "df_jual = pd.read_excel(filelocation, sheet_name='laporan penjualan', skiprows=3)"
   ]
  },
  {
   "cell_type": "markdown",
   "id": "9ea45986",
   "metadata": {},
   "source": [
    "# 2. Deskripsi dataset"
   ]
  },
  {
   "cell_type": "markdown",
   "id": "2f8c5b63",
   "metadata": {},
   "source": [
    "Melihat Dataset"
   ]
  },
  {
   "cell_type": "code",
   "execution_count": 10,
   "id": "1cc17443",
   "metadata": {},
   "outputs": [
    {
     "data": {
      "text/html": [
       "<div>\n",
       "<style scoped>\n",
       "    .dataframe tbody tr th:only-of-type {\n",
       "        vertical-align: middle;\n",
       "    }\n",
       "\n",
       "    .dataframe tbody tr th {\n",
       "        vertical-align: top;\n",
       "    }\n",
       "\n",
       "    .dataframe thead th {\n",
       "        text-align: right;\n",
       "    }\n",
       "</style>\n",
       "<table border=\"1\" class=\"dataframe\">\n",
       "  <thead>\n",
       "    <tr style=\"text-align: right;\">\n",
       "      <th></th>\n",
       "      <th>NO</th>\n",
       "      <th>TANGGAL</th>\n",
       "      <th>KODE</th>\n",
       "      <th>NAMA BARANG</th>\n",
       "      <th>KATEGORI</th>\n",
       "      <th>DESAIN</th>\n",
       "      <th>HARGA JUAL</th>\n",
       "      <th>HARGA BELI</th>\n",
       "      <th>LABA</th>\n",
       "    </tr>\n",
       "  </thead>\n",
       "  <tbody>\n",
       "    <tr>\n",
       "      <th>0</th>\n",
       "      <td>NaN</td>\n",
       "      <td>NaT</td>\n",
       "      <td>NaN</td>\n",
       "      <td>NaN</td>\n",
       "      <td>NaN</td>\n",
       "      <td>NaN</td>\n",
       "      <td>NaN</td>\n",
       "      <td>NaN</td>\n",
       "      <td>NaN</td>\n",
       "    </tr>\n",
       "    <tr>\n",
       "      <th>1</th>\n",
       "      <td>1.0</td>\n",
       "      <td>2024-02-01</td>\n",
       "      <td>H-01</td>\n",
       "      <td>PASMINA OVAL</td>\n",
       "      <td>HIJAB</td>\n",
       "      <td>POLOS</td>\n",
       "      <td>120000.0</td>\n",
       "      <td>140000.0</td>\n",
       "      <td>20000.0</td>\n",
       "    </tr>\n",
       "    <tr>\n",
       "      <th>2</th>\n",
       "      <td>2.0</td>\n",
       "      <td>2024-02-01</td>\n",
       "      <td>H-25</td>\n",
       "      <td>SEGIEMPAT PARIS</td>\n",
       "      <td>HIJAB</td>\n",
       "      <td>POLOS</td>\n",
       "      <td>70000.0</td>\n",
       "      <td>90000.0</td>\n",
       "      <td>20000.0</td>\n",
       "    </tr>\n",
       "    <tr>\n",
       "      <th>3</th>\n",
       "      <td>3.0</td>\n",
       "      <td>2024-02-01</td>\n",
       "      <td>H-21</td>\n",
       "      <td>SEGIEMPAT VOAL</td>\n",
       "      <td>HIJAB</td>\n",
       "      <td>POLOS</td>\n",
       "      <td>30000.0</td>\n",
       "      <td>45000.0</td>\n",
       "      <td>15000.0</td>\n",
       "    </tr>\n",
       "    <tr>\n",
       "      <th>4</th>\n",
       "      <td>4.0</td>\n",
       "      <td>2024-02-01</td>\n",
       "      <td>H-05</td>\n",
       "      <td>PASMINA SHIMMER SILK</td>\n",
       "      <td>HIJAB</td>\n",
       "      <td>POLOS</td>\n",
       "      <td>80000.0</td>\n",
       "      <td>100000.0</td>\n",
       "      <td>20000.0</td>\n",
       "    </tr>\n",
       "    <tr>\n",
       "      <th>...</th>\n",
       "      <td>...</td>\n",
       "      <td>...</td>\n",
       "      <td>...</td>\n",
       "      <td>...</td>\n",
       "      <td>...</td>\n",
       "      <td>...</td>\n",
       "      <td>...</td>\n",
       "      <td>...</td>\n",
       "      <td>...</td>\n",
       "    </tr>\n",
       "    <tr>\n",
       "      <th>465</th>\n",
       "      <td>465.0</td>\n",
       "      <td>2024-02-16</td>\n",
       "      <td>H-18</td>\n",
       "      <td>BERGO INSTAN VOAL</td>\n",
       "      <td>HIJAB</td>\n",
       "      <td>POLOS</td>\n",
       "      <td>70000.0</td>\n",
       "      <td>90000.0</td>\n",
       "      <td>20000.0</td>\n",
       "    </tr>\n",
       "    <tr>\n",
       "      <th>466</th>\n",
       "      <td>466.0</td>\n",
       "      <td>2024-02-16</td>\n",
       "      <td>H-02</td>\n",
       "      <td>PASMINA SILK LASERCUT</td>\n",
       "      <td>HIJAB</td>\n",
       "      <td>POLOS</td>\n",
       "      <td>115000.0</td>\n",
       "      <td>130000.0</td>\n",
       "      <td>15000.0</td>\n",
       "    </tr>\n",
       "    <tr>\n",
       "      <th>467</th>\n",
       "      <td>467.0</td>\n",
       "      <td>2024-02-16</td>\n",
       "      <td>H-04</td>\n",
       "      <td>PASMINA CERUTY</td>\n",
       "      <td>HIJAB</td>\n",
       "      <td>BORDIR</td>\n",
       "      <td>110000.0</td>\n",
       "      <td>125000.0</td>\n",
       "      <td>15000.0</td>\n",
       "    </tr>\n",
       "    <tr>\n",
       "      <th>468</th>\n",
       "      <td>468.0</td>\n",
       "      <td>2024-02-16</td>\n",
       "      <td>H-05</td>\n",
       "      <td>PASMINA SHIMMER SILK</td>\n",
       "      <td>HIJAB</td>\n",
       "      <td>POLOS</td>\n",
       "      <td>80000.0</td>\n",
       "      <td>100000.0</td>\n",
       "      <td>20000.0</td>\n",
       "    </tr>\n",
       "    <tr>\n",
       "      <th>469</th>\n",
       "      <td>469.0</td>\n",
       "      <td>2024-02-16</td>\n",
       "      <td>H-23</td>\n",
       "      <td>SEGIEMPAT SYARI</td>\n",
       "      <td>HIJAB</td>\n",
       "      <td>POLOS</td>\n",
       "      <td>80000.0</td>\n",
       "      <td>100000.0</td>\n",
       "      <td>20000.0</td>\n",
       "    </tr>\n",
       "  </tbody>\n",
       "</table>\n",
       "<p>470 rows × 9 columns</p>\n",
       "</div>"
      ],
      "text/plain": [
       "        NO    TANGGAL  KODE            NAMA BARANG KATEGORI  DESAIN  \\\n",
       "0      NaN        NaT   NaN                    NaN      NaN     NaN   \n",
       "1      1.0 2024-02-01  H-01           PASMINA OVAL    HIJAB   POLOS   \n",
       "2      2.0 2024-02-01  H-25        SEGIEMPAT PARIS    HIJAB   POLOS   \n",
       "3      3.0 2024-02-01  H-21         SEGIEMPAT VOAL    HIJAB   POLOS   \n",
       "4      4.0 2024-02-01  H-05   PASMINA SHIMMER SILK    HIJAB   POLOS   \n",
       "..     ...        ...   ...                    ...      ...     ...   \n",
       "465  465.0 2024-02-16  H-18      BERGO INSTAN VOAL    HIJAB   POLOS   \n",
       "466  466.0 2024-02-16  H-02  PASMINA SILK LASERCUT    HIJAB   POLOS   \n",
       "467  467.0 2024-02-16  H-04        PASMINA CERUTY     HIJAB  BORDIR   \n",
       "468  468.0 2024-02-16  H-05   PASMINA SHIMMER SILK    HIJAB   POLOS   \n",
       "469  469.0 2024-02-16  H-23        SEGIEMPAT SYARI    HIJAB   POLOS   \n",
       "\n",
       "     HARGA JUAL  HARGA BELI     LABA  \n",
       "0           NaN         NaN      NaN  \n",
       "1      120000.0    140000.0  20000.0  \n",
       "2       70000.0     90000.0  20000.0  \n",
       "3       30000.0     45000.0  15000.0  \n",
       "4       80000.0    100000.0  20000.0  \n",
       "..          ...         ...      ...  \n",
       "465     70000.0     90000.0  20000.0  \n",
       "466    115000.0    130000.0  15000.0  \n",
       "467    110000.0    125000.0  15000.0  \n",
       "468     80000.0    100000.0  20000.0  \n",
       "469     80000.0    100000.0  20000.0  \n",
       "\n",
       "[470 rows x 9 columns]"
      ]
     },
     "execution_count": 10,
     "metadata": {},
     "output_type": "execute_result"
    }
   ],
   "source": [
    "df_jual"
   ]
  },
  {
   "cell_type": "markdown",
   "id": "17685024",
   "metadata": {},
   "source": [
    "# 3. Mengganti nama kolom"
   ]
  },
  {
   "cell_type": "markdown",
   "id": "b49dbed4",
   "metadata": {},
   "source": [
    "Dalam hal ini, nama kolom tidak diubah, namun ditulis ulang untuk memastikan semua kolom yang diperlukan telah diidentifikasi dengan benar."
   ]
  },
  {
   "cell_type": "code",
   "execution_count": 12,
   "id": "d7c2f756",
   "metadata": {},
   "outputs": [],
   "source": [
    "df_jual = df_jual.rename(columns={\n",
    "    'NO': 'NO',\n",
    "    'TANGGAL': 'TANGGAL',\n",
    "    'KODE': 'KODE',\n",
    "    'NAMA BARANG': 'NAMA BARANG',\n",
    "    'KATEGORI': 'KATEGORI',\n",
    "    'DESAIN': 'DESAIN',\n",
    "    'HARGA JUAL': 'HARGA JUAL',\n",
    "    'HARGA BELI': 'HARGA BELI',\n",
    "    'LABA': 'LABA'\n",
    "})"
   ]
  },
  {
   "cell_type": "markdown",
   "id": "27409792",
   "metadata": {},
   "source": [
    "# 4. Menghilangkan Baris tidak terdeteksi"
   ]
  },
  {
   "cell_type": "markdown",
   "id": "d9d7e6ed",
   "metadata": {},
   "source": [
    "menghapus baris yang memiliki nilai NO yang hilang (NaN). dropna(subset=['NO']) memastikan bahwa hanya baris dengan nilai NO yang lengkap yang akan dipertahankan dalam dataset."
   ]
  },
  {
   "cell_type": "code",
   "execution_count": 13,
   "id": "4dece6f0",
   "metadata": {},
   "outputs": [],
   "source": [
    "df_jual = df_jual.dropna(subset=['NO'])"
   ]
  },
  {
   "cell_type": "markdown",
   "id": "e5416400",
   "metadata": {},
   "source": [
    "# 5. menampilkan dataset yang sudah diubah"
   ]
  },
  {
   "cell_type": "code",
   "execution_count": 14,
   "id": "405df5ec",
   "metadata": {},
   "outputs": [
    {
     "data": {
      "text/html": [
       "<div>\n",
       "<style scoped>\n",
       "    .dataframe tbody tr th:only-of-type {\n",
       "        vertical-align: middle;\n",
       "    }\n",
       "\n",
       "    .dataframe tbody tr th {\n",
       "        vertical-align: top;\n",
       "    }\n",
       "\n",
       "    .dataframe thead th {\n",
       "        text-align: right;\n",
       "    }\n",
       "</style>\n",
       "<table border=\"1\" class=\"dataframe\">\n",
       "  <thead>\n",
       "    <tr style=\"text-align: right;\">\n",
       "      <th></th>\n",
       "      <th>NO</th>\n",
       "      <th>TANGGAL</th>\n",
       "      <th>KODE</th>\n",
       "      <th>NAMA BARANG</th>\n",
       "      <th>KATEGORI</th>\n",
       "      <th>DESAIN</th>\n",
       "      <th>HARGA JUAL</th>\n",
       "      <th>HARGA BELI</th>\n",
       "      <th>LABA</th>\n",
       "    </tr>\n",
       "  </thead>\n",
       "  <tbody>\n",
       "    <tr>\n",
       "      <th>1</th>\n",
       "      <td>1.0</td>\n",
       "      <td>2024-02-01</td>\n",
       "      <td>H-01</td>\n",
       "      <td>PASMINA OVAL</td>\n",
       "      <td>HIJAB</td>\n",
       "      <td>POLOS</td>\n",
       "      <td>120000.0</td>\n",
       "      <td>140000.0</td>\n",
       "      <td>20000.0</td>\n",
       "    </tr>\n",
       "    <tr>\n",
       "      <th>2</th>\n",
       "      <td>2.0</td>\n",
       "      <td>2024-02-01</td>\n",
       "      <td>H-25</td>\n",
       "      <td>SEGIEMPAT PARIS</td>\n",
       "      <td>HIJAB</td>\n",
       "      <td>POLOS</td>\n",
       "      <td>70000.0</td>\n",
       "      <td>90000.0</td>\n",
       "      <td>20000.0</td>\n",
       "    </tr>\n",
       "    <tr>\n",
       "      <th>3</th>\n",
       "      <td>3.0</td>\n",
       "      <td>2024-02-01</td>\n",
       "      <td>H-21</td>\n",
       "      <td>SEGIEMPAT VOAL</td>\n",
       "      <td>HIJAB</td>\n",
       "      <td>POLOS</td>\n",
       "      <td>30000.0</td>\n",
       "      <td>45000.0</td>\n",
       "      <td>15000.0</td>\n",
       "    </tr>\n",
       "    <tr>\n",
       "      <th>4</th>\n",
       "      <td>4.0</td>\n",
       "      <td>2024-02-01</td>\n",
       "      <td>H-05</td>\n",
       "      <td>PASMINA SHIMMER SILK</td>\n",
       "      <td>HIJAB</td>\n",
       "      <td>POLOS</td>\n",
       "      <td>80000.0</td>\n",
       "      <td>100000.0</td>\n",
       "      <td>20000.0</td>\n",
       "    </tr>\n",
       "    <tr>\n",
       "      <th>5</th>\n",
       "      <td>5.0</td>\n",
       "      <td>2024-02-01</td>\n",
       "      <td>H-04</td>\n",
       "      <td>PASMINA CERUTY</td>\n",
       "      <td>HIJAB</td>\n",
       "      <td>BORDIR</td>\n",
       "      <td>110000.0</td>\n",
       "      <td>125000.0</td>\n",
       "      <td>15000.0</td>\n",
       "    </tr>\n",
       "    <tr>\n",
       "      <th>...</th>\n",
       "      <td>...</td>\n",
       "      <td>...</td>\n",
       "      <td>...</td>\n",
       "      <td>...</td>\n",
       "      <td>...</td>\n",
       "      <td>...</td>\n",
       "      <td>...</td>\n",
       "      <td>...</td>\n",
       "      <td>...</td>\n",
       "    </tr>\n",
       "    <tr>\n",
       "      <th>465</th>\n",
       "      <td>465.0</td>\n",
       "      <td>2024-02-16</td>\n",
       "      <td>H-18</td>\n",
       "      <td>BERGO INSTAN VOAL</td>\n",
       "      <td>HIJAB</td>\n",
       "      <td>POLOS</td>\n",
       "      <td>70000.0</td>\n",
       "      <td>90000.0</td>\n",
       "      <td>20000.0</td>\n",
       "    </tr>\n",
       "    <tr>\n",
       "      <th>466</th>\n",
       "      <td>466.0</td>\n",
       "      <td>2024-02-16</td>\n",
       "      <td>H-02</td>\n",
       "      <td>PASMINA SILK LASERCUT</td>\n",
       "      <td>HIJAB</td>\n",
       "      <td>POLOS</td>\n",
       "      <td>115000.0</td>\n",
       "      <td>130000.0</td>\n",
       "      <td>15000.0</td>\n",
       "    </tr>\n",
       "    <tr>\n",
       "      <th>467</th>\n",
       "      <td>467.0</td>\n",
       "      <td>2024-02-16</td>\n",
       "      <td>H-04</td>\n",
       "      <td>PASMINA CERUTY</td>\n",
       "      <td>HIJAB</td>\n",
       "      <td>BORDIR</td>\n",
       "      <td>110000.0</td>\n",
       "      <td>125000.0</td>\n",
       "      <td>15000.0</td>\n",
       "    </tr>\n",
       "    <tr>\n",
       "      <th>468</th>\n",
       "      <td>468.0</td>\n",
       "      <td>2024-02-16</td>\n",
       "      <td>H-05</td>\n",
       "      <td>PASMINA SHIMMER SILK</td>\n",
       "      <td>HIJAB</td>\n",
       "      <td>POLOS</td>\n",
       "      <td>80000.0</td>\n",
       "      <td>100000.0</td>\n",
       "      <td>20000.0</td>\n",
       "    </tr>\n",
       "    <tr>\n",
       "      <th>469</th>\n",
       "      <td>469.0</td>\n",
       "      <td>2024-02-16</td>\n",
       "      <td>H-23</td>\n",
       "      <td>SEGIEMPAT SYARI</td>\n",
       "      <td>HIJAB</td>\n",
       "      <td>POLOS</td>\n",
       "      <td>80000.0</td>\n",
       "      <td>100000.0</td>\n",
       "      <td>20000.0</td>\n",
       "    </tr>\n",
       "  </tbody>\n",
       "</table>\n",
       "<p>469 rows × 9 columns</p>\n",
       "</div>"
      ],
      "text/plain": [
       "        NO    TANGGAL  KODE            NAMA BARANG KATEGORI  DESAIN  \\\n",
       "1      1.0 2024-02-01  H-01           PASMINA OVAL    HIJAB   POLOS   \n",
       "2      2.0 2024-02-01  H-25        SEGIEMPAT PARIS    HIJAB   POLOS   \n",
       "3      3.0 2024-02-01  H-21         SEGIEMPAT VOAL    HIJAB   POLOS   \n",
       "4      4.0 2024-02-01  H-05   PASMINA SHIMMER SILK    HIJAB   POLOS   \n",
       "5      5.0 2024-02-01  H-04        PASMINA CERUTY     HIJAB  BORDIR   \n",
       "..     ...        ...   ...                    ...      ...     ...   \n",
       "465  465.0 2024-02-16  H-18      BERGO INSTAN VOAL    HIJAB   POLOS   \n",
       "466  466.0 2024-02-16  H-02  PASMINA SILK LASERCUT    HIJAB   POLOS   \n",
       "467  467.0 2024-02-16  H-04        PASMINA CERUTY     HIJAB  BORDIR   \n",
       "468  468.0 2024-02-16  H-05   PASMINA SHIMMER SILK    HIJAB   POLOS   \n",
       "469  469.0 2024-02-16  H-23        SEGIEMPAT SYARI    HIJAB   POLOS   \n",
       "\n",
       "     HARGA JUAL  HARGA BELI     LABA  \n",
       "1      120000.0    140000.0  20000.0  \n",
       "2       70000.0     90000.0  20000.0  \n",
       "3       30000.0     45000.0  15000.0  \n",
       "4       80000.0    100000.0  20000.0  \n",
       "5      110000.0    125000.0  15000.0  \n",
       "..          ...         ...      ...  \n",
       "465     70000.0     90000.0  20000.0  \n",
       "466    115000.0    130000.0  15000.0  \n",
       "467    110000.0    125000.0  15000.0  \n",
       "468     80000.0    100000.0  20000.0  \n",
       "469     80000.0    100000.0  20000.0  \n",
       "\n",
       "[469 rows x 9 columns]"
      ]
     },
     "execution_count": 14,
     "metadata": {},
     "output_type": "execute_result"
    }
   ],
   "source": [
    "df_jual"
   ]
  },
  {
   "cell_type": "markdown",
   "id": "855e12c2",
   "metadata": {},
   "source": [
    "# 6. Menganalisi menggunakan Bulan"
   ]
  },
  {
   "cell_type": "markdown",
   "id": "9278a209",
   "metadata": {},
   "source": [
    "mengonversi kolom TANGGAL menjadi format datetime dan mengekstrak bulan dari tanggal tersebut. Bulan yang diekstrak disimpan dalam kolom baru BULAN."
   ]
  },
  {
   "cell_type": "code",
   "execution_count": 16,
   "id": "bfc04895",
   "metadata": {},
   "outputs": [],
   "source": [
    "df_jual['TANGGAL'] = pd.to_datetime(df_jual['TANGGAL'])\n",
    "df_jual['BULAN'] = df_jual['TANGGAL'].dt.month"
   ]
  },
  {
   "cell_type": "markdown",
   "id": "f6204dfc",
   "metadata": {},
   "source": [
    "# 7. Menambah Tabel jumlah yang di beli"
   ]
  },
  {
   "cell_type": "raw",
   "id": "d6c29c85",
   "metadata": {},
   "source": [
    "Menambahkan tabel dan menampilkan 10 terlaris"
   ]
  },
  {
   "cell_type": "code",
   "execution_count": 26,
   "id": "ca858983",
   "metadata": {},
   "outputs": [],
   "source": [
    "df_laris = df_jual.groupby(['KODE', 'NAMA BARANG']).size().reset_index(name='COUNT')\n",
    "df_laris = df_laris.sort_values(by='COUNT', ascending=False)"
   ]
  },
  {
   "cell_type": "code",
   "execution_count": 27,
   "id": "99ade2fc",
   "metadata": {},
   "outputs": [
    {
     "name": "stdout",
     "output_type": "stream",
     "text": [
      "Top 10 Barang Terlaris:\n",
      "    KODE          NAMA BARANG  COUNT\n",
      "35  H-30     SEGITIGA DIAMOND     46\n",
      "0   A-01               PENITI     37\n",
      "1   A-02               CHIPUT     37\n",
      "24  H-18    BERGO INSTAN VOAL     36\n",
      "7   H-01         PASMINA OVAL     32\n",
      "27  H-21       SEGIEMPAT VOAL     27\n",
      "17  H-11        PASMINA VOAL      22\n",
      "32  H-27        SEGITIGA VOAL     15\n",
      "15  H-09  PASMINA SNOWCHIFFON     14\n",
      "25  H-19   BERGO INSTAN CREPE     13\n"
     ]
    }
   ],
   "source": [
    "top_10_laris = df_laris.head(10)\n",
    "print(\"Top 10 Barang Terlaris:\")\n",
    "print(top_10_laris)\n"
   ]
  },
  {
   "cell_type": "markdown",
   "id": "69775a8e",
   "metadata": {},
   "source": [
    "# 8. Data Exploration"
   ]
  },
  {
   "cell_type": "markdown",
   "id": "c0e4c6f7",
   "metadata": {},
   "source": [
    "melakukan eksplorasi data:\n",
    "\n",
    "- describe : memberikan statistik deskriptif dari dataset.\n",
    "- info : memberikan informasi tentang tipe data dan jumlah nilai non-null.\n",
    "- sns.countplot = digunakan untuk membuat plot distribusi penjualan per bulan."
   ]
  },
  {
   "cell_type": "code",
   "execution_count": 29,
   "id": "1a079919",
   "metadata": {},
   "outputs": [
    {
     "name": "stdout",
     "output_type": "stream",
     "text": [
      "\n",
      "Deskripsi Data:\n",
      "               NO                        TANGGAL     HARGA JUAL  \\\n",
      "count  469.000000                            469     469.000000   \n",
      "mean   235.000000  2024-02-08 06:36:04.605543680   61731.343284   \n",
      "min      1.000000            2024-02-01 00:00:00    4000.000000   \n",
      "25%    118.000000            2024-02-04 00:00:00   30000.000000   \n",
      "50%    235.000000            2024-02-08 00:00:00   60000.000000   \n",
      "75%    352.000000            2024-02-12 00:00:00   80000.000000   \n",
      "max    469.000000            2024-02-16 00:00:00  130000.000000   \n",
      "std    135.532899                            NaN   37209.563300   \n",
      "\n",
      "          HARGA BELI          LABA  BULAN  \n",
      "count     469.000000    469.000000  469.0  \n",
      "mean    76503.198294  14771.855011    2.0  \n",
      "min      5000.000000   1000.000000    2.0  \n",
      "25%     40000.000000  10000.000000    2.0  \n",
      "50%     80000.000000  15000.000000    2.0  \n",
      "75%    100000.000000  20000.000000    2.0  \n",
      "max    150000.000000  20000.000000    2.0  \n",
      "std     41617.028001   5603.835013    0.0  \n",
      "\n",
      "Informasi Data:\n",
      "<class 'pandas.core.frame.DataFrame'>\n",
      "Index: 469 entries, 1 to 469\n",
      "Data columns (total 10 columns):\n",
      " #   Column       Non-Null Count  Dtype         \n",
      "---  ------       --------------  -----         \n",
      " 0   NO           469 non-null    float64       \n",
      " 1   TANGGAL      469 non-null    datetime64[ns]\n",
      " 2   KODE         469 non-null    object        \n",
      " 3   NAMA BARANG  469 non-null    object        \n",
      " 4   KATEGORI     469 non-null    object        \n",
      " 5   DESAIN       469 non-null    object        \n",
      " 6   HARGA JUAL   469 non-null    float64       \n",
      " 7   HARGA BELI   469 non-null    float64       \n",
      " 8   LABA         469 non-null    float64       \n",
      " 9   BULAN        469 non-null    int32         \n",
      "dtypes: datetime64[ns](1), float64(4), int32(1), object(4)\n",
      "memory usage: 38.5+ KB\n",
      "None\n",
      "\n",
      "Distribusi Penjualan per Bulan:\n"
     ]
    },
    {
     "data": {
      "image/png": "[encoded data removed]",
      "text/plain": [
       "<Figure size 640x480 with 1 Axes>"
      ]
     },
     "metadata": {},
     "output_type": "display_data"
    }
   ],
   "source": [
    "print(\"\\nDeskripsi Data:\")\n",
    "print(df_jual.describe())\n",
    "\n",
    "print(\"\\nInformasi Data:\")\n",
    "print(df_jual.info())\n",
    "\n",
    "print(\"\\nDistribusi Penjualan per Bulan:\")\n",
    "sns.countplot(x='BULAN', data=df_jual)\n",
    "plt.title('Distribusi Penjualan per Bulan')\n",
    "plt.xlabel('Bulan')\n",
    "plt.ylabel('Jumlah Penjualan')\n",
    "plt.show()"
   ]
  },
  {
   "cell_type": "code",
   "execution_count": null,
   "id": "afe8d6eb",
   "metadata": {},
   "outputs": [],
   "source": []
  }
 ],
 "metadata": {
  "kernelspec": {
   "display_name": "Python 3 (ipykernel)",
   "language": "python",
   "name": "python3"
  },
  "language_info": {
   "codemirror_mode": {
    "name": "ipython",
    "version": 3
   },
   "file_extension": ".py",
   "mimetype": "text/x-python",
   "name": "python",
   "nbconvert_exporter": "python",
   "pygments_lexer": "ipython3",
   "version": "3.11.5"
  }
 },
 "nbformat": 4,
 "nbformat_minor": 5
}
